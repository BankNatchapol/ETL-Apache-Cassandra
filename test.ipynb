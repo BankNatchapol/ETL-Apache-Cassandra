{
 "cells": [
  {
   "cell_type": "code",
   "execution_count": 1,
   "metadata": {
    "editable": true
   },
   "outputs": [],
   "source": [
    "from cassandra.cluster import Cluster\n",
    "cluster = Cluster(['127.0.0.1'])\n",
    "session = cluster.connect()\n",
    "session.set_keyspace('udacity')"
   ]
  },
  {
   "cell_type": "code",
   "execution_count": 2,
   "metadata": {
    "editable": true
   },
   "outputs": [
    {
     "name": "stdout",
     "output_type": "stream",
     "text": [
      "artist|song|length\n",
      "------------------\n",
      "Faithless| Music Matters (Mark Knight Dub)| 495.30731201171875\n"
     ]
    }
   ],
   "source": [
    "query1 = \"\"\"SELECT artist, song, length FROM song_by_session WHERE sessionId=338 AND itemInSession=4\"\"\"\n",
    "try:\n",
    "    rows = session.execute(query1)\n",
    "except Exception as e:\n",
    "    print(e)\n",
    "\n",
    "print('artist' +'|'+ 'song' +'|'+ 'length')\n",
    "print('------------------')\n",
    "for row in rows:\n",
    "    print(row.artist+'|', row.song+'|', row.length)"
   ]
  },
  {
   "cell_type": "code",
   "execution_count": 3,
   "metadata": {
    "editable": true
   },
   "outputs": [
    {
     "name": "stdout",
     "output_type": "stream",
     "text": [
      "artist|song|user\n",
      "------------------\n",
      "Down To The Bone| Keep On Keepin' On| Sylvie Cruz\n",
      "Three Drives| Greece 2000| Sylvie Cruz\n",
      "Sebastien Tellier| Kilometer| Sylvie Cruz\n",
      "Lonnie Gordon| Catch You Baby (Steve Pitron & Max Sanna Radio Edit)| Sylvie Cruz\n"
     ]
    }
   ],
   "source": [
    "query2 = \"\"\"SELECT artist, song, user FROM artist_by_id WHERE userId=10 AND sessionId=182 ORDER BY itemInSession\"\"\"\n",
    "try:\n",
    "    rows = session.execute(query2)\n",
    "except Exception as e:\n",
    "    print(e)\n",
    "\n",
    "print('artist' +'|'+ 'song' +'|'+ 'user')\n",
    "print('------------------')\n",
    "for row in rows:\n",
    "    print(row.artist+'|', row.song+'|', row.user)"
   ]
  },
  {
   "cell_type": "code",
   "execution_count": 4,
   "metadata": {
    "editable": true
   },
   "outputs": [
    {
     "name": "stdout",
     "output_type": "stream",
     "text": [
      "username\n",
      "---------\n",
      "Jacqueline Lynch\n",
      "Sara Johnson\n",
      "Tegan Levine\n"
     ]
    }
   ],
   "source": [
    "query3 = \"\"\"SELECT username FROM song_by_user WHERE song='All Hands Against His Own'\"\"\"\n",
    "try:\n",
    "    rows = session.execute(query3)\n",
    "except Exception as e:\n",
    "    print(e)\n",
    "\n",
    "print('username')\n",
    "print('---------')\n",
    "for row in rows:\n",
    "    print(row.username)"
   ]
  },
  {
   "cell_type": "code",
   "execution_count": 5,
   "metadata": {
    "editable": true
   },
   "outputs": [],
   "source": [
    "session.shutdown()\n",
    "cluster.shutdown()"
   ]
  }
 ],
 "metadata": {
  "kernelspec": {
   "display_name": "Python 3",
   "language": "python",
   "name": "python3"
  },
  "language_info": {
   "codemirror_mode": {
    "name": "ipython",
    "version": 3
   },
   "file_extension": ".py",
   "mimetype": "text/x-python",
   "name": "python",
   "nbconvert_exporter": "python",
   "pygments_lexer": "ipython3",
   "version": "3.6.3"
  }
 },
 "nbformat": 4,
 "nbformat_minor": 4
}
